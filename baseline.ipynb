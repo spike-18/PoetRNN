{
 "cells": [
  {
   "cell_type": "markdown",
   "metadata": {},
   "source": [
    "## Генерация поэзии"
   ]
  },
  {
   "cell_type": "markdown",
   "metadata": {},
   "source": [
    "### Описание проекта\n",
    "\n",
    "В этом задании исследуется возможность генерации стихотворного текста рекуррентными\n",
    "нейронными сетями. \n",
    "\n",
    "Обучение проводится на двух датасетах раздельно: \n",
    "\n",
    "* Сонеты У.Шекспира, `sonnets.txt`\n",
    "\n",
    "* \"Евгений Онегин\" А.С.Пушкина, `onegin.txt`.\n",
    "\n",
    "Ход работы состоит из следующих этапов:\n",
    "    \n",
    "1. Загрузка датасета.\n",
    "2. Составление словаря токенов.\n",
    "3. Предобработка данных для обучения.\n",
    "4. Обучение модели.\n",
    "5. Генерация текста, оценка качества модели.\n",
    "6. Сохранение модели."
   ]
  },
  {
   "cell_type": "code",
   "execution_count": 1,
   "metadata": {},
   "outputs": [],
   "source": [
    "import string\n",
    "import time, math\n",
    "import numpy as np\n",
    "import torch, torch.nn as nn\n",
    "import matplotlib.pyplot as plt\n",
    "\n",
    "%matplotlib inline"
   ]
  },
  {
   "cell_type": "code",
   "execution_count": 2,
   "metadata": {},
   "outputs": [],
   "source": [
    "device = torch.device(\"cuda\") if torch.cuda.is_available() else torch.device(\"cpu\")"
   ]
  },
  {
   "cell_type": "code",
   "execution_count": 3,
   "metadata": {},
   "outputs": [],
   "source": [
    "def time_since(since):\n",
    "    \"\"\"\n",
    "    Вспомогательная функция для мониторинга обучения\n",
    "    \"\"\"\n",
    "    s = time.time() - since\n",
    "    m = math.floor(s / 60)\n",
    "    s -= m * 60\n",
    "    return '%dm %ds' % (m, s)"
   ]
  },
  {
   "cell_type": "markdown",
   "metadata": {},
   "source": [
    "### Загрузка данных: Шекспир"
   ]
  },
  {
   "cell_type": "markdown",
   "metadata": {},
   "source": [
    "Для упрощения процесса обучения переведем все символы в нижний регистр.\n",
    "Сохраним весь текст в виде одной строки в переменной `text`."
   ]
  },
  {
   "cell_type": "code",
   "execution_count": 4,
   "metadata": {
    "collapsed": true
   },
   "outputs": [
    {
     "name": "stdout",
     "output_type": "stream",
     "text": [
      "OK!\n"
     ]
    }
   ],
   "source": [
    "with open('sonnets.txt', 'r') as iofile:\n",
    "    text = iofile.readlines()\n",
    "    \n",
    "TEXT_START = 45\n",
    "TEXT_END = -368\n",
    "text = text[TEXT_START : TEXT_END]\n",
    "assert len(text) == 2616\n",
    "\n",
    "text = ''.join(text).lower()    # Конкатенация и приведение к нижнему регистру \n",
    "\n",
    "assert len(text) == 100225, 'Are you sure you have concatenated all the strings?'\n",
    "assert not any([x in set(text) for x in string.ascii_uppercase]), 'Uppercase letters are present'\n",
    "print('OK!')"
   ]
  },
  {
   "cell_type": "markdown",
   "metadata": {},
   "source": [
    "### Загрузка данных: Пушкин"
   ]
  },
  {
   "cell_type": "markdown",
   "metadata": {},
   "source": [
    "Аналогичным образом загрузим второй датасет, избавимся от технических символов."
   ]
  },
  {
   "cell_type": "code",
   "execution_count": 5,
   "metadata": {},
   "outputs": [],
   "source": [
    "with open('onegin.txt', 'r') as iofile:\n",
    "    text = iofile.readlines()\n",
    "    \n",
    "text = [x.replace('\\t\\t', '') for x in text]\n",
    "text = ''.join(text).lower()    # Конкатенация и приведение к нижнему регистру "
   ]
  },
  {
   "cell_type": "markdown",
   "metadata": {},
   "source": [
    "### Составление словаря токенов"
   ]
  },
  {
   "cell_type": "markdown",
   "metadata": {},
   "source": [
    "Генерация текста будет происходить посимвольно, поместим все встретившиеся в тексте символы в множество `tokens`. Также добавим технический символ начала обучающей последовательности `<sos>`."
   ]
  },
  {
   "cell_type": "code",
   "execution_count": 6,
   "metadata": {},
   "outputs": [],
   "source": [
    "tokens = sorted(set(text)) + ['<sos>']\n",
    "num_tokens = len(tokens)"
   ]
  },
  {
   "cell_type": "markdown",
   "metadata": {},
   "source": [
    "Для кодирования и декодирования текста составим два словаря: `token_to_idx = {<char>: <index>}` и `idx_to_token = {<index>: <char>}`"
   ]
  },
  {
   "cell_type": "code",
   "execution_count": 7,
   "metadata": {
    "collapsed": true
   },
   "outputs": [],
   "source": [
    "# dict <index>:<char>\n",
    "idx_to_token = {idx: x for idx, x in enumerate(tokens)}\n",
    "\n",
    "# dict <char>:<index>\n",
    "token_to_idx = {x: idx for idx, x in enumerate(tokens)}"
   ]
  },
  {
   "cell_type": "markdown",
   "metadata": {},
   "source": [
    "### Предобработка обучающих данных"
   ]
  },
  {
   "cell_type": "markdown",
   "metadata": {},
   "source": [
    "Обучать сеть будем батчами - набором `batch_size` строк длиной `seq_length`."
   ]
  },
  {
   "cell_type": "code",
   "execution_count": 8,
   "metadata": {},
   "outputs": [],
   "source": [
    "text_encoded = [token_to_idx[x] for x in text]    # Меняем токены на индексы в словаре \n",
    "\n",
    "def generate_chunk(batch_size, seq_length):\n",
    "    \"\"\"\n",
    "    Возвращает тензор batch_size x seq_length из строк текста фиксированной длины.\n",
    "    \"\"\"\n",
    "    global text_encoded\n",
    "\n",
    "    start_column = np.zeros((batch_size, 1), dtype=int) + token_to_idx[\"<sos>\"]\n",
    "    start_index = np.random.randint(0, len(text_encoded) - batch_size * seq_length - 1)\n",
    "    data = np.array(\n",
    "        text_encoded[start_index : start_index + batch_size * seq_length]\n",
    "    ).reshape((batch_size, -1))\n",
    "    yield np.hstack((start_column, data))\n",
    "\n",
    "def random_training_set(batch_size, seq_length):    \n",
    "    \"\"\"\n",
    "    Разделяет батч на тренировочную и тестовую части.\n",
    "    \"\"\"\n",
    "    chunk = next(generate_chunk(batch_size, seq_length))\n",
    "    inp = chunk[:, :-1]\n",
    "    target = chunk[:, 1:]\n",
    "    return torch.tensor(inp).long(), torch.tensor(target).long()"
   ]
  },
  {
   "cell_type": "markdown",
   "metadata": {},
   "source": [
    "### Обучение модели"
   ]
  },
  {
   "cell_type": "markdown",
   "metadata": {},
   "source": [
    "В задаче генерации текста опробуем две модели - `Vanilla RNN` и `LSTM`. В качестве входных данных модели подается батч. Каждый символ должен быть закодирован вектором длиной `embedding_size`, для этого используется слой `nn.Embedding`. (Для удобства было решено не использовать one-hot encoding).\n",
    "\n",
    "Классы RNN и LSTM наследуются от RModule, в котором реализована базовая структура сети - nn.Encoder, nn.rnn, nn.Decoder."
   ]
  },
  {
   "cell_type": "code",
   "execution_count": 9,
   "metadata": {},
   "outputs": [],
   "source": [
    "class RModule(nn.Module):\n",
    "    \"\"\"\n",
    "    Базовый класс посимвольной рекуррентной нейросети\n",
    "    input_size: число ключей словаря. Испольщует encoder для кодирования токе-вектор\n",
    "    output_size: число ключей словаря\n",
    "    hidden_size: длина вектора скрытого состояния\n",
    "    embedding_size: размер входного вектора\n",
    "    n_layers: число слоев рекуррентной сети\n",
    "    encoder: nn.Embedding переводит токен в вектор длиной embedding_size\n",
    "    decoder: nn.Linear - переводит вектор скрытого состояния в логиты\n",
    "    rnn: nn.RNN / nn.LSTM - должен быть определен классом-наследником\n",
    "    \"\"\"\n",
    "    def __init__(self, input_size, hidden_size, embedding_size=18, n_layers=1):\n",
    "        super(RModule, self).__init__()\n",
    "        self.input_size = input_size\n",
    "        self.output_size = input_size\n",
    "        self.hidden_size = hidden_size\n",
    "        self.embedding_size = embedding_size\n",
    "        self.n_layers = n_layers\n",
    "        \n",
    "        self.encoder = nn.Embedding(input_size, embedding_size)\n",
    "        self.decoder = nn.Linear(hidden_size, self.output_size)\n",
    "        self.rnn = None\n",
    "    \n",
    "    def forward(self, input, hidden):\n",
    "        input = self.encoder(input)\n",
    "        output, hidden = self.rnn(input, hidden)\n",
    "        output = self.decoder(output)\n",
    "        return output, hidden"
   ]
  },
  {
   "cell_type": "code",
   "execution_count": 10,
   "metadata": {
    "collapsed": true
   },
   "outputs": [],
   "source": [
    "class RNN(RModule):\n",
    "    def __init__(self, input_size, hidden_size, embedding_size=18, n_layers=1):\n",
    "        super().__init__(input_size, hidden_size, embedding_size, n_layers)\n",
    "        self.rnn = nn.RNN(embedding_size, hidden_size, n_layers, batch_first=True)"
   ]
  },
  {
   "cell_type": "code",
   "execution_count": 11,
   "metadata": {},
   "outputs": [],
   "source": [
    "def train(model, optimizer, loss_fn, input, target):\n",
    "    batch_size = input.shape[0]\n",
    "    hidden = None                                   # Инициализация нулевого вектора внутреннего состояния\n",
    "    model.zero_grad()\n",
    "    loss = 0\n",
    "\n",
    "    output, hidden = model(input, hidden)           # Получение предсказаний для каждой буквы каждого объекта в батче\n",
    "\n",
    "    for obj in range(batch_size):\n",
    "        loss += loss_fn(output[obj], target[obj])   # Лосс усредняется по буквам и суммируется\n",
    "    loss = loss / batch_size                        # Вычисляется средний лосс по батчу\n",
    "\n",
    "    loss.backward()\n",
    "    optimizer.step()\n",
    "\n",
    "    return loss.item()"
   ]
  },
  {
   "cell_type": "code",
   "execution_count": 12,
   "metadata": {},
   "outputs": [
    {
     "name": "stderr",
     "output_type": "stream",
     "text": [
      "/home/canne16/.local/lib/python3.12/site-packages/torch/nn/modules/linear.py:125: UserWarning: Attempting to use hipBLASLt on an unsupported architecture! Overriding blas backend to hipblas (Triggered internally at ../aten/src/ATen/Context.cpp:296.)\n",
      "  return F.linear(input, self.weight, self.bias)\n"
     ]
    },
    {
     "name": "stdout",
     "output_type": "stream",
     "text": [
      "[Epoch 1000: 10% | 0m 9s | loss 1.9499]\n",
      "[Epoch 2000: 20% | 0m 18s | loss 1.9465]\n",
      "[Epoch 3000: 30% | 0m 27s | loss 1.8592]\n",
      "[Epoch 4000: 40% | 0m 36s | loss 1.8283]\n",
      "[Epoch 5000: 50% | 0m 45s | loss 1.9188]\n",
      "[Epoch 6000: 60% | 0m 54s | loss 1.9481]\n",
      "[Epoch 7000: 70% | 1m 3s | loss 1.7714]\n",
      "[Epoch 8000: 80% | 1m 12s | loss 1.8002]\n",
      "[Epoch 9000: 90% | 1m 21s | loss 1.8111]\n",
      "[Epoch 10000: 100% | 1m 30s | loss 1.7965]\n"
     ]
    }
   ],
   "source": [
    "batch_size = 64     # Размер батча\n",
    "seq_length = 64     # Длина строки в батче\n",
    "\n",
    "n_epochs = 10000    \n",
    "embedding_size = 25\n",
    "hidden_size = 100   \n",
    "n_layers = 1\n",
    "lr = 0.005\n",
    "\n",
    "plot_every = 10     # Для графика loss(epoch)\n",
    "print_every = 1000  \n",
    "\n",
    "rnn_model = RNN(num_tokens, hidden_size, embedding_size, n_layers).to(device)   # Создаем классическую RNN\n",
    "optimizer = torch.optim.Adam(rnn_model.parameters(), lr=lr)\n",
    "loss_fn = nn.CrossEntropyLoss(reduction='mean')\n",
    "\n",
    "start = time.time()\n",
    "all_losses = []\n",
    "loss_avg = 0\n",
    "\n",
    "# Обучение классической модели\n",
    "for epoch in range(1, n_epochs + 1):\n",
    "    train_feat, train_targ = random_training_set(batch_size, seq_length)\n",
    "    loss = train(rnn_model, optimizer, loss_fn, train_feat.to(device), train_targ.to(device))       \n",
    "    loss_avg += loss\n",
    "\n",
    "    if epoch % print_every == 0:\n",
    "        print('[Epoch %d: %d%% | %s | loss %.4f]' % (epoch, epoch / n_epochs * 100, time_since(start), loss))\n",
    "\n",
    "    if epoch % plot_every == 0:\n",
    "        all_losses.append(loss_avg / plot_every)\n",
    "        loss_avg = 0"
   ]
  },
  {
   "cell_type": "markdown",
   "metadata": {},
   "source": [
    "Построим график функции потерь от номера эпохи - он выходит на плато `loss ~ 1.8`."
   ]
  },
  {
   "cell_type": "code",
   "execution_count": 13,
   "metadata": {
    "collapsed": true
   },
   "outputs": [
    {
     "data": {
      "text/plain": [
       "[<matplotlib.lines.Line2D at 0x7f4b06435910>]"
      ]
     },
     "execution_count": 13,
     "metadata": {},
     "output_type": "execute_result"
    },
    {
     "data": {
      "image/png": "[encoded data removed]",
      "text/plain": [
       "<Figure size 640x480 with 1 Axes>"
      ]
     },
     "metadata": {},
     "output_type": "display_data"
    }
   ],
   "source": [
    "plt.figure()\n",
    "plt.plot(all_losses)"
   ]
  },
  {
   "cell_type": "markdown",
   "metadata": {},
   "source": [
    "### Оценка качества модели, генерация текста"
   ]
  },
  {
   "cell_type": "code",
   "execution_count": 14,
   "metadata": {},
   "outputs": [],
   "source": [
    "def generate_sample(char_rnn, seed_phrase=None, max_length=200, temperature=1.0, device=device):\n",
    "    \n",
    "    if seed_phrase is not None:\n",
    "        x_sequence = [token_to_idx[\"<sos>\"]] + [token_to_idx[token] for token in seed_phrase.lower()]\n",
    "    else:\n",
    "        x_sequence = [token_to_idx[\"<sos>\"]]\n",
    "    \n",
    "    prediction = x_sequence[1:]\n",
    "    x_sequence = torch.tensor(x_sequence, dtype=torch.int64).view(1,-1).to(device)\n",
    "    hidden = None\n",
    "    \n",
    "    # Восстановление вектора скрытого состояния по заданной последовательности\n",
    "    if seed_phrase is not None:\n",
    "        _, hidden = char_rnn(x_sequence[:,:-1], hidden)\n",
    "        inp = x_sequence[:,-1].view(1,-1)\n",
    "    else:\n",
    "        inp = x_sequence\n",
    "    \n",
    "    # Начало генерации\n",
    "    for p in range(max_length+1 if seed_phrase is None else max_length - len(seed_phrase)):\n",
    "        output, hidden = char_rnn(inp, hidden)\n",
    "        \n",
    "        # Получаем вероятности индексов с учетом температуры\n",
    "        p_next = nn.functional.softmax(output.view(1,-1) / temperature, dim=-1).to('cpu').data.numpy()[0]\n",
    "        \n",
    "        # Получаем предсказанный токен\n",
    "        next_ix = np.random.choice(len(tokens), p=p_next)\n",
    "        prediction.append(next_ix)\n",
    "        \n",
    "        # Используем предсказанный токен как вход модели\n",
    "        inp = torch.tensor([[next_ix]], dtype=torch.int64).to(device)\n",
    "        \n",
    "\n",
    "    return \"\".join([tokens[ix] for ix in prediction])"
   ]
  },
  {
   "cell_type": "markdown",
   "metadata": {},
   "source": [
    "Сгенерируем обученной сетью последовательность. Видно, что результат лишь отдаленно напоминает стихотворный текст, а при уменьшении температуры переходит в прозу."
   ]
  },
  {
   "cell_type": "code",
   "execution_count": 15,
   "metadata": {},
   "outputs": [
    {
     "name": "stdout",
     "output_type": "stream",
     "text": [
      "й\n",
      "престыме.\n",
      "я ожал…\n",
      "никаданье в плещел;\n",
      "в колные сохорь с ужинит не подъежий марин хреги, чтоб свете\n",
      "в ним ни нрый дохорь\n",
      "у злосла,\n",
      "где дол\n",
      "и изпереверленно громалисивогу счажал нежну шеще поспетами,\n",
      "кростью да читал сне? вдреми в деревнуж талый заит, моя\n",
      "меня поспей\n",
      "иные,\n",
      "стыхать санучень усно было \n"
     ]
    }
   ],
   "source": [
    "print(generate_sample(rnn_model, max_length=300, temperature=1))"
   ]
  },
  {
   "cell_type": "markdown",
   "metadata": {},
   "source": [
    "### Обучение LSTM\n",
    "\n",
    "Теперь опробуем LSTM, которая должна показать себя чуть лучше."
   ]
  },
  {
   "cell_type": "code",
   "execution_count": 16,
   "metadata": {},
   "outputs": [],
   "source": [
    "class LSTM(RNN):\n",
    "    def __init__(self, input_size, hidden_size, embedding_size=18, dropout=0.0, n_layers=1):\n",
    "        super().__init__(input_size, hidden_size, embedding_size, n_layers)\n",
    "        self.rnn = nn.LSTM(embedding_size, hidden_size, n_layers, dropout=dropout, batch_first=True)"
   ]
  },
  {
   "cell_type": "markdown",
   "metadata": {},
   "source": [
    "Для новой модели оптимальные параметры гиперпараметры могут быть другими:"
   ]
  },
  {
   "cell_type": "code",
   "execution_count": 17,
   "metadata": {},
   "outputs": [
    {
     "name": "stderr",
     "output_type": "stream",
     "text": [
      "/home/canne16/.local/lib/python3.12/site-packages/torch/nn/modules/rnn.py:123: UserWarning: dropout option adds dropout after all but last recurrent layer, so non-zero dropout expects num_layers greater than 1, but got dropout=1 and num_layers=1\n",
      "  warnings.warn(\n"
     ]
    },
    {
     "name": "stdout",
     "output_type": "stream",
     "text": [
      "[Epoch 1000: 10% | 0m 8s | loss 1.8000]\n",
      "[Epoch 2000: 20% | 0m 17s | loss 1.7761]\n",
      "[Epoch 3000: 30% | 0m 26s | loss 1.6429]\n",
      "[Epoch 4000: 40% | 0m 35s | loss 1.4722]\n",
      "[Epoch 5000: 50% | 0m 44s | loss 1.4535]\n",
      "[Epoch 6000: 60% | 0m 53s | loss 1.5416]\n",
      "[Epoch 7000: 70% | 1m 2s | loss 1.4262]\n",
      "[Epoch 8000: 80% | 1m 11s | loss 1.3557]\n",
      "[Epoch 9000: 90% | 1m 20s | loss 1.4145]\n",
      "[Epoch 10000: 100% | 1m 29s | loss 1.3716]\n"
     ]
    }
   ],
   "source": [
    "batch_size = 64         # Размер батча\n",
    "seq_length=50           # Длина строки в батче\n",
    "\n",
    "n_epochs = 10000\n",
    "embedding_size = 25\n",
    "hidden_size = 128\n",
    "n_layers = 1\n",
    "lr = 0.005\n",
    "\n",
    "plot_every = 10         # Для графика loss(epoch)\n",
    "print_every = 1000      \n",
    "\n",
    "lstm_model = LSTM(num_tokens, hidden_size, embedding_size, n_layers).to(device)     # Создаем LSTM\n",
    "optimizer = torch.optim.Adam(lstm_model.parameters(), lr=lr)\n",
    "loss_fn = nn.CrossEntropyLoss(reduction='mean')\n",
    "\n",
    "start = time.time()\n",
    "all_losses = []\n",
    "loss_avg = 0\n",
    "\n",
    "# Обучение классической модели\n",
    "for epoch in range(1, n_epochs + 1):\n",
    "    train_feat, train_targ = random_training_set(batch_size, seq_length)\n",
    "    loss = train(lstm_model, optimizer, loss_fn, train_feat.to(device), train_targ.to(device))       \n",
    "    loss_avg += loss\n",
    "\n",
    "    if epoch % print_every == 0:\n",
    "        print('[Epoch %d: %d%% | %s | loss %.4f]' % (epoch, epoch / n_epochs * 100, time_since(start), loss))\n",
    "\n",
    "    if epoch % plot_every == 0:\n",
    "        all_losses.append(loss_avg / plot_every)\n",
    "        loss_avg = 0"
   ]
  },
  {
   "cell_type": "markdown",
   "metadata": {},
   "source": [
    "Построим график функции потерь от номера эпохи: видно, что он выходит на плато `loss ~ 1.4`, что несколько лучше Vanilla RNN."
   ]
  },
  {
   "cell_type": "code",
   "execution_count": 18,
   "metadata": {
    "collapsed": true
   },
   "outputs": [
    {
     "data": {
      "text/plain": [
       "[<matplotlib.lines.Line2D at 0x7f4b064bfbc0>]"
      ]
     },
     "execution_count": 18,
     "metadata": {},
     "output_type": "execute_result"
    },
    {
     "data": {
      "image/png": "[encoded data removed]",
      "text/plain": [
       "<Figure size 640x480 with 1 Axes>"
      ]
     },
     "metadata": {},
     "output_type": "display_data"
    }
   ],
   "source": [
    "plt.figure()\n",
    "plt.plot(all_losses)"
   ]
  },
  {
   "cell_type": "markdown",
   "metadata": {},
   "source": [
    "Оценим предсказания `LSTM` для разного параметра `temperature`: `[0.1, 0.2, 0.5, 1.0, 2.0]`."
   ]
  },
  {
   "cell_type": "code",
   "execution_count": 19,
   "metadata": {
    "collapsed": true
   },
   "outputs": [
    {
     "name": "stdout",
     "output_type": "stream",
     "text": [
      "\n",
      "---------------------\n",
      "GENERATED WITH t = 0.1\n",
      " вечерной томим,\n",
      "и в самом в своей разделась;\n",
      "прочил он всё прочел и верный\n",
      "с оголь от сердце в том сохнуть,\n",
      "и в сердце в нем сердце гордый на совсем\n",
      "всё такогда бы жизнь мой одевенный\n",
      "и в сердце он на\n",
      "\n",
      "---------------------\n",
      "GENERATED WITH t = 0.2\n",
      " на свете,\n",
      "одно скости вечера своим.\n",
      "\n",
      "\n",
      "\n",
      "xxxiii\n",
      "\n",
      "она своей забыли друга\n",
      "меж и то в том уверен,\n",
      "что в этом приносят – и видин,\n",
      "и в саму приятный взгляд,\n",
      "и вот уж она забыла;\n",
      "в том своей роднем мой одочно\n",
      "\n",
      "---------------------\n",
      "GENERATED WITH t = 0.5\n",
      ", и веселый муза\n",
      "от душу привету помнять из.\n",
      "об явился ль он из верхой,\n",
      "а мой думал молча всё уность\n",
      "в том со всех перед ней.\n",
      "\n",
      "\n",
      "\n",
      "xxxi\n",
      "\n",
      "в сей он разутной душою,\n",
      "татьяна свете, и вет.\n",
      "столь утомить вечер\n",
      "\n",
      "---------------------\n",
      "GENERATED WITH t = 1.0\n",
      "и здесь…\n",
      "под над согнает уже молько.\n",
      "\n",
      "\n",
      "\n",
      "xii\n",
      "\n",
      "что собрандым чувство корда,\n",
      "молько жду выводит рой стухну погулал\n",
      "и он нет ни конялисяетьсь;\n",
      "как лона: волненье, искре,\n",
      "я мог дней и вдруг друг ли\n",
      "ва в том\n",
      "\n",
      "---------------------\n",
      "GENERATED WITH t = 2.0\n",
      "хны всежный апра«заргии глазернуй\n",
      "коявший, в счто, пьеты, шпаса;\n",
      "люхует мидетцына: ктикко…\n",
      "«скол: tts.пыоку лоч:\n",
      "татьяна уловогричием\n",
      "взокравглусра чужой. и ж. впадотмал…\n",
      "один эльдо своялый!..»\n",
      "ssor be\n"
     ]
    }
   ],
   "source": [
    "for t in [0.1, 0.2, 0.5, 1.0, 2.0]:\n",
    "    print(f'\\n---------------------\\nGENERATED WITH t = {t}')\n",
    "    print(generate_sample(lstm_model, max_length=200, temperature=t))"
   ]
  },
  {
   "cell_type": "markdown",
   "metadata": {},
   "source": [
    "По форме текст значительно больше походит на стихотворение. C увеличением температуры сгенерированный текст становится более разнообразным, но при этом в какой-то момент совсем непохожим на стихотворение. LSTM справилась с задачей в разы лучше классической рекуррентной нейронной сети."
   ]
  },
  {
   "cell_type": "markdown",
   "metadata": {},
   "source": [
    "### Сохранение моделей"
   ]
  },
  {
   "cell_type": "markdown",
   "metadata": {},
   "source": [
    "Сохраним обученные `Vanilla RNN` и `LSTM`, а затем проверим, что всё сделали правильно:"
   ]
  },
  {
   "cell_type": "code",
   "execution_count": 20,
   "metadata": {
    "collapsed": true
   },
   "outputs": [],
   "source": [
    "torch.save(rnn_model, 'rnn.model')\n",
    "torch.save(lstm_model, 'lstm.model')"
   ]
  },
  {
   "cell_type": "code",
   "execution_count": 21,
   "metadata": {},
   "outputs": [],
   "source": [
    "model = torch.load('lstm.model', weights_only=False)"
   ]
  },
  {
   "cell_type": "code",
   "execution_count": 27,
   "metadata": {},
   "outputs": [
    {
     "name": "stdout",
     "output_type": "stream",
     "text": [
      " наш онегин в старина;\n",
      "томью ужал с какие сердце вновь\n",
      "под этот уж видной скорой\n",
      "унадаем он друга,\n",
      "что не хочешь ли явита\n",
      "мне печали хладнокровно,\n",
      "ели страдает воспоминанье\n",
      "девочки ворот венец, и хлева\n"
     ]
    }
   ],
   "source": [
    "print(generate_sample(model, max_length=200, temperature=0.7))"
   ]
  }
 ],
 "metadata": {
  "anaconda-cloud": {},
  "kernelspec": {
   "display_name": "Python 3",
   "language": "python",
   "name": "python3"
  },
  "language_info": {
   "codemirror_mode": {
    "name": "ipython",
    "version": 3
   },
   "file_extension": ".py",
   "mimetype": "text/x-python",
   "name": "python",
   "nbconvert_exporter": "python",
   "pygments_lexer": "ipython3",
   "version": "3.12.5"
  }
 },
 "nbformat": 4,
 "nbformat_minor": 2
}
